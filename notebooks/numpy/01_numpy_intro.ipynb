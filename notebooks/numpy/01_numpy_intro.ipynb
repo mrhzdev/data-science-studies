{
 "cells": [
  {
   "cell_type": "markdown",
   "metadata": {},
   "source": [
    "# Python para análise de dados\n",
    "\n",
    "Introdução à biblioteca numpy"
   ]
  },
  {
   "cell_type": "code",
   "execution_count": 127,
   "metadata": {},
   "outputs": [],
   "source": [
    "# importa a biblioteca numpy\n",
    "import numpy as np"
   ]
  },
  {
   "cell_type": "code",
   "execution_count": 128,
   "metadata": {},
   "outputs": [],
   "source": [
    "# criando um array de uma dimensão apenas\n",
    "one_dim = np.array([1,2,3,4])\n",
    "\n",
    "# Criando um array de duas dimensões\n",
    "two_dim = np.array([(1,2,3),(4,5,6)])"
   ]
  },
  {
   "cell_type": "code",
   "execution_count": 129,
   "metadata": {},
   "outputs": [
    {
     "data": {
      "text/plain": [
       "numpy.ndarray"
      ]
     },
     "execution_count": 129,
     "metadata": {},
     "output_type": "execute_result"
    }
   ],
   "source": [
    "type(one_dim)"
   ]
  },
  {
   "cell_type": "code",
   "execution_count": 130,
   "metadata": {},
   "outputs": [
    {
     "name": "stdout",
     "output_type": "stream",
     "text": [
      "Dimensão arr 1: 1\n",
      "Dimensão arr 2: 2\n"
     ]
    }
   ],
   "source": [
    "# vizualizando no número de dimensões do array\n",
    "print( \"Dimensão arr 1:\" ,one_dim.ndim )\n",
    "print( \"Dimensão arr 2:\" ,two_dim.ndim )"
   ]
  },
  {
   "cell_type": "code",
   "execution_count": 131,
   "metadata": {},
   "outputs": [
    {
     "data": {
      "text/plain": [
       "array([1, 2, 3, 4])"
      ]
     },
     "execution_count": 131,
     "metadata": {},
     "output_type": "execute_result"
    }
   ],
   "source": [
    "# Imprimindo o array\n",
    "one_dim"
   ]
  },
  {
   "cell_type": "code",
   "execution_count": 132,
   "metadata": {},
   "outputs": [
    {
     "data": {
      "text/plain": [
       "array([[1, 2, 3],\n",
       "       [4, 5, 6]])"
      ]
     },
     "execution_count": 132,
     "metadata": {},
     "output_type": "execute_result"
    }
   ],
   "source": [
    "# Imprimindo o array\n",
    "two_dim"
   ]
  },
  {
   "cell_type": "code",
   "execution_count": 133,
   "metadata": {},
   "outputs": [
    {
     "data": {
      "text/plain": [
       "array([[0.06823948, 0.11285721],\n",
       "       [0.44534391, 0.73701018],\n",
       "       [0.20821906, 0.03758016],\n",
       "       [0.1070686 , 0.57790687],\n",
       "       [0.20963001, 0.92742056]])"
      ]
     },
     "execution_count": 133,
     "metadata": {},
     "output_type": "execute_result"
    }
   ],
   "source": [
    "# Cria um array de números aleatórios.\n",
    "# Um array de 5 linhas e 2 colunas\n",
    "np.random.random((5,2))"
   ]
  },
  {
   "cell_type": "code",
   "execution_count": 134,
   "metadata": {},
   "outputs": [
    {
     "data": {
      "text/plain": [
       "array([10, 15, 20, 25, 30, 35, 40, 45])"
      ]
     },
     "execution_count": 134,
     "metadata": {},
     "output_type": "execute_result"
    }
   ],
   "source": [
    "# Cria um array com valores esparsos iniciando com o valor 10, menor que 50 e incrementando de 5 em 5\n",
    "\n",
    "# Ex:\n",
    "# np.arange(10,100,9) # até <100 de 10 em 10\n",
    "# np.arange(0,20,2) # até <20 de 2 em 2\n",
    "np.arange(10,50,5) # até <50 de 5 em 5"
   ]
  },
  {
   "cell_type": "code",
   "execution_count": 135,
   "metadata": {},
   "outputs": [
    {
     "data": {
      "text/plain": [
       "array([0.  , 0.25, 0.5 , 0.75, 1.  , 1.25, 1.5 , 1.75, 2.  ])"
      ]
     },
     "execution_count": 135,
     "metadata": {},
     "output_type": "execute_result"
    }
   ],
   "source": [
    "# Cria um array linear de 0 a 2 de no máximo 9 elementos\n",
    "\n",
    "# EX:\n",
    "# np.linspace(0,2,10) # from 0 to 2 max 10\n",
    "# np.linspace(-1,1,3) # from -1 to 1 max 3\n",
    "np.linspace(0,2,9) # from 0 to 2 max 9"
   ]
  },
  {
   "cell_type": "code",
   "execution_count": 136,
   "metadata": {},
   "outputs": [
    {
     "data": {
      "text/plain": [
       "array([[0., 0., 0., 0.],\n",
       "       [0., 0., 0., 0.],\n",
       "       [0., 0., 0., 0.]])"
      ]
     },
     "execution_count": 136,
     "metadata": {},
     "output_type": "execute_result"
    }
   ],
   "source": [
    "# Cria um array de valores zeros\n",
    "# Cria um array com 3 linhs e 4 dimensões\n",
    "np.zeros((3,4))"
   ]
  },
  {
   "cell_type": "markdown",
   "metadata": {},
   "source": [
    "# Numpy arrays Vs Listas\n",
    "\n",
    "- Arrays numpy permitem fazermos operações em arrarys inteiros de forma rápida.\n",
    "- Listas não permitem operações em todos os elementos da lista.\n",
    "- Para operações em todos os elementos é preciso interar sobre toda a lista.\n",
    "- Listas em Python armazenam diferentes tipos de objetos.\n",
    "- Arrays Numpy considera todos os elementos de tipos distintos como strings"
   ]
  },
  {
   "cell_type": "code",
   "execution_count": 137,
   "metadata": {},
   "outputs": [],
   "source": [
    "# Criando uma lista em Python.\n",
    "lista = [1,2,3]"
   ]
  },
  {
   "cell_type": "code",
   "execution_count": 138,
   "metadata": {},
   "outputs": [
    {
     "data": {
      "text/plain": [
       "[1, 2, 3]"
      ]
     },
     "execution_count": 138,
     "metadata": {},
     "output_type": "execute_result"
    }
   ],
   "source": [
    "lista"
   ]
  },
  {
   "cell_type": "code",
   "execution_count": 139,
   "metadata": {},
   "outputs": [
    {
     "data": {
      "text/plain": [
       "[1, 2, 3, 1, 2, 3]"
      ]
     },
     "execution_count": 139,
     "metadata": {},
     "output_type": "execute_result"
    }
   ],
   "source": [
    "# Multiplicar valores da lista por 2.\n",
    "lista * 2"
   ]
  },
  {
   "cell_type": "code",
   "execution_count": 140,
   "metadata": {},
   "outputs": [],
   "source": [
    "# Transforme a variável lista em um array Numpy\n",
    "lista = np.array([1,2,3])"
   ]
  },
  {
   "cell_type": "code",
   "execution_count": 141,
   "metadata": {},
   "outputs": [
    {
     "data": {
      "text/plain": [
       "numpy.ndarray"
      ]
     },
     "execution_count": 141,
     "metadata": {},
     "output_type": "execute_result"
    }
   ],
   "source": [
    "type(lista)"
   ]
  },
  {
   "cell_type": "code",
   "execution_count": 147,
   "metadata": {},
   "outputs": [
    {
     "data": {
      "text/plain": [
       "array([2, 4, 6])"
      ]
     },
     "execution_count": 147,
     "metadata": {},
     "output_type": "execute_result"
    }
   ],
   "source": [
    "# Multiplicando cada elemento por 2\n",
    "lista * 2"
   ]
  },
  {
   "cell_type": "code",
   "execution_count": 148,
   "metadata": {},
   "outputs": [],
   "source": [
    "# Calcular IMC de pessoas.\n",
    "pesos = [67,81,120,90]\n",
    "altura = [1.68,1.70,1.75,1.85]"
   ]
  },
  {
   "cell_type": "code",
   "execution_count": null,
   "metadata": {},
   "outputs": [],
   "source": [
    "# Faz o calculo usando as listas\n",
    "# isso imprimirá um erro, pois não é possível realizar operações matemáticas entre duas listas python\n",
    "pesos / altura ** 2"
   ]
  },
  {
   "cell_type": "code",
   "execution_count": 149,
   "metadata": {},
   "outputs": [],
   "source": [
    "# Transforma as listas em arrays numpy\n",
    "pesos = np.array(pesos)\n",
    "altura = np.array(altura)"
   ]
  },
  {
   "cell_type": "code",
   "execution_count": 150,
   "metadata": {},
   "outputs": [
    {
     "data": {
      "text/plain": [
       "array([23.73866213, 28.02768166, 39.18367347, 26.29656684])"
      ]
     },
     "execution_count": 150,
     "metadata": {},
     "output_type": "execute_result"
    }
   ],
   "source": [
    "# Faz o calculo em imprime cada valor \n",
    "pesos / altura ** 2"
   ]
  },
  {
   "cell_type": "code",
   "execution_count": 151,
   "metadata": {},
   "outputs": [],
   "source": [
    "# Arrays Numpy armazenam elementos como Strings quando estes não são inteiros ou floats,\n",
    "# ou seja,quando não são homogêneos\n",
    "a = np.array([1,2,'Casa',True])"
   ]
  },
  {
   "cell_type": "code",
   "execution_count": 152,
   "metadata": {},
   "outputs": [
    {
     "data": {
      "text/plain": [
       "array(['1', '2', 'Casa', 'True'], dtype='<U21')"
      ]
     },
     "execution_count": 152,
     "metadata": {},
     "output_type": "execute_result"
    }
   ],
   "source": [
    "a"
   ]
  },
  {
   "cell_type": "code",
   "execution_count": null,
   "metadata": {
    "scrolled": true
   },
   "outputs": [],
   "source": [
    "# Imprimirá um erro, pois não é possível realizar operações matemáticas em um array de strings\n",
    "a*2"
   ]
  }
 ],
 "metadata": {
  "kernelspec": {
   "display_name": "Python 3",
   "language": "python",
   "name": "python3"
  },
  "language_info": {
   "codemirror_mode": {
    "name": "ipython",
    "version": 3
   },
   "file_extension": ".py",
   "mimetype": "text/x-python",
   "name": "python",
   "nbconvert_exporter": "python",
   "pygments_lexer": "ipython3",
   "version": "3.7.3"
  }
 },
 "nbformat": 4,
 "nbformat_minor": 2
}
